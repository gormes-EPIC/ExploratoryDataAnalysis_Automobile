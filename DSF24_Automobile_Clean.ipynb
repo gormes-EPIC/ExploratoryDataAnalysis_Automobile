{
 "cells": [
  {
   "cell_type": "markdown",
   "metadata": {},
   "source": [
    "# Lab 7.1: Cleaning and Wrangling Data with Automobile Dataset\n",
    "\n",
    "For this dataset, we will try to build a model to determine the price of a vehicle. For this lab, we will complete the data cleaning and exploratory data analysis required to build our model. Cleaning the dataset and identifying features which relate to vehicle price is critical to building a model to answer our question. A future lab will use our findings here to actually create the model. This notebook contains part 1 of this lab and is worth 4 points.\n",
    "\n",
    "**Rubric**\n",
    "- 4 points: Complete the Jupyter Notebook as described. Analysis and written portions are completed in a professional manner. Use complete sentences and correct grammar.\n",
    "- 3 points: Completes only some of the Jupyter Notebook as described, or submission does not meet professionalism standards.\n",
    "- 2 points: Missing or incomplete"
   ]
  },
  {
   "cell_type": "markdown",
   "metadata": {},
   "source": [
    "## Getting the data \n",
    "For this lab we are using the automobile dataset from [UC Irving's Machine Learning Repository](https://archive.ics.uci.edu/dataset/10/automobile). This dataset should be available in your GitHub repository as `automobile.csv`.\n",
    "\n",
    "Import `pandas` and use `.read_csv()` to create your dataframe."
   ]
  },
  {
   "cell_type": "code",
   "execution_count": null,
   "metadata": {},
   "outputs": [],
   "source": []
  },
  {
   "cell_type": "markdown",
   "metadata": {},
   "source": [
    "To make sure your dataframe is correct, list the columns of your dataframe."
   ]
  },
  {
   "cell_type": "code",
   "execution_count": null,
   "metadata": {},
   "outputs": [],
   "source": []
  },
  {
   "cell_type": "markdown",
   "metadata": {},
   "source": [
    "## Data cleaning and wrangling\n",
    "Looking at our dataset, we can see several question marks appeared in the dataframe; those are missing values which may hinder our further analysis.\n",
    "\n",
    "So, how do we identify all those missing values and deal with them?\n",
    "\n",
    "Steps for working with missing data:\n",
    "1. Identify missing data\n",
    "2. Deal with missing data\n",
    "3. Correct data format\n",
    "\n",
    "### Identify and handle missing values\n",
    "#### Identify missing values\n",
    "##### Convert \"?\" to NaN\n",
    "In the car dataset, missing data comes with the question mark \"?\".\n",
    "We replace \"?\" with numpy's NaN (Not a Number), Python's default missing value marker for reasons of computational speed and convenience. Here we use the function: `.replace(A, B, inplace = True)` to replace A by B.\n"
   ]
  },
  {
   "cell_type": "code",
   "execution_count": null,
   "metadata": {},
   "outputs": [],
   "source": []
  },
  {
   "cell_type": "markdown",
   "metadata": {},
   "source": [
    "##### Evaluating for missing data\n",
    "\n",
    "The missing values are converted by default. We use the following functions to identify these missing values. There are two methods to detect missing data:\n",
    "- `.isnull()`\n",
    "- `.notnull()`\n",
    "\n",
    "The output is a boolean value indicating whether the value that is passed into the argument is in fact missing data.\n",
    "\"True\" means the value is a missing value while \"False\" means the value is not a missing value."
   ]
  },
  {
   "cell_type": "code",
   "execution_count": null,
   "metadata": {},
   "outputs": [],
   "source": []
  },
  {
   "cell_type": "markdown",
   "metadata": {},
   "source": [
    "##### Count missing values in each column\n",
    "Using a for loop in Python, we can quickly figure out the number of missing values in each column. As mentioned above, \"True\" represents a missing value and \"False\" means the value is present in the dataset.  In the body of the for loop the method `.value_counts()` counts the number of \"True\" values. \n"
   ]
  },
  {
   "cell_type": "code",
   "execution_count": null,
   "metadata": {},
   "outputs": [],
   "source": []
  },
  {
   "cell_type": "markdown",
   "metadata": {},
   "source": [
    "Based on the summary above, each column has 200 rows of data and six of the columns containing missing data:\n",
    "- `normalized-losses`: \n",
    "- `num-of-doors`: \n",
    "- `bore`: \n",
    "- `stroke`: \n",
    "- `horsepower`:\n",
    "- `peak-rpm`: \n",
    "\n",
    "#### Deal with missing data\n",
    "How to deal with missing data?\n",
    "\n",
    "1. Drop data\n",
    "    1. Drop the whole row\n",
    "    2. Drop the whole column\n",
    "2. Replace data\n",
    "    1. Replace it by mean\n",
    "    2. Replace it by frequency\n",
    "    3. Replace it based on other functions\n",
    "\n",
    "Whole columns should be dropped only if most entries in the column are empty. In our dataset, none of the columns are empty enough to drop entirely.\n",
    "We have some freedom in choosing which method to replace data; however, some methods may seem more reasonable than others. We will apply each method to many different columns:\n",
    "\n",
    "1. Replace by mean:\n",
    "- `normalized-losses`: 36 missing data\n",
    "- `bore`: 4 missing data \n",
    "- `stroke`: 4 missing data \n",
    "- `horsepower`: 2 missing data \n",
    "- `peak-rpm`: 2 missing data\n",
    "\n",
    "2. Replace by frequency:\n",
    "- `num-of-doors`: 2 missing data - *84% sedans is four doors. Since four doors is most frequent, it is most likely to occur*\n",
    "\n",
    "Calculate the mean value for the \"normalized-losses\" column"
   ]
  },
  {
   "cell_type": "code",
   "execution_count": null,
   "metadata": {},
   "outputs": [],
   "source": []
  },
  {
   "cell_type": "markdown",
   "metadata": {},
   "source": [
    "Replace \"NaN\" with mean value in \"normalized-losses\" column. You can use `.replace()` for `.fillna()`."
   ]
  },
  {
   "cell_type": "code",
   "execution_count": null,
   "metadata": {},
   "outputs": [],
   "source": []
  },
  {
   "cell_type": "markdown",
   "metadata": {},
   "source": [
    "Calculate the mean value for the \"bore\" column. Then, replace \"NaN\" with the mean value in the \"bore\" column."
   ]
  },
  {
   "cell_type": "code",
   "execution_count": null,
   "metadata": {},
   "outputs": [],
   "source": []
  },
  {
   "cell_type": "markdown",
   "metadata": {},
   "source": [
    "Calculate the mean value for the \"stroke\" column. Replace NaN in \"stroke\" column with the mean value."
   ]
  },
  {
   "cell_type": "code",
   "execution_count": null,
   "metadata": {},
   "outputs": [],
   "source": []
  },
  {
   "cell_type": "markdown",
   "metadata": {},
   "source": [
    "Calculate the mean value for the \"horsepower\" column. Replace \"NaN\" with the mean value in the \"horsepower\" column.\n"
   ]
  },
  {
   "cell_type": "code",
   "execution_count": null,
   "metadata": {},
   "outputs": [],
   "source": []
  },
  {
   "cell_type": "markdown",
   "metadata": {},
   "source": [
    "Calculate the mean value for \"peak-rpm\" column. Replace \"NaN\" with the mean value in the \"peak-rpm\" column."
   ]
  },
  {
   "cell_type": "code",
   "execution_count": null,
   "metadata": {},
   "outputs": [],
   "source": []
  },
  {
   "cell_type": "markdown",
   "metadata": {},
   "source": [
    "For \"num-of-doors\", we want to replae it with the mode common value. To see which values are present in a particular column, we can use the `.value_counts()` function:"
   ]
  },
  {
   "cell_type": "code",
   "execution_count": null,
   "metadata": {},
   "outputs": [],
   "source": []
  },
  {
   "cell_type": "markdown",
   "metadata": {},
   "source": [
    "We can see that four doors are the most common type. We can also use the `.idxmax()` function with `.value_counts()` to calculate the most common type automatically:\n"
   ]
  },
  {
   "cell_type": "code",
   "execution_count": null,
   "metadata": {},
   "outputs": [],
   "source": []
  },
  {
   "cell_type": "markdown",
   "metadata": {},
   "source": [
    "Now replace the null values in \"num-of-doors\" with the most common value.  "
   ]
  },
  {
   "cell_type": "code",
   "execution_count": null,
   "metadata": {},
   "outputs": [],
   "source": []
  },
  {
   "cell_type": "markdown",
   "metadata": {},
   "source": [
    "**Great!** Now, we have a dataset with no missing values.\n",
    "\n",
    "### Correct data format\n",
    "We are almost there! The last step is checking and making sure that all data is in the correct format (int, float, text or other).\n",
    "In pandas, we use:\n",
    "- `.dtype()` to check the data type\n",
    "- `.astype()` to change the data type\n",
    "\n",
    "Let's list the data types for each column. Verify that the data types make sense with the [documentation](https://archive.ics.uci.edu/dataset/10/automobile). If not, change the data types."
   ]
  },
  {
   "cell_type": "code",
   "execution_count": null,
   "metadata": {},
   "outputs": [],
   "source": []
  },
  {
   "cell_type": "markdown",
   "metadata": {},
   "source": [
    "<b>Wonderful!</b>\n",
    "\n",
    "Now we have finally obtained the cleaned dataset with no missing values with all data in its proper format.\n"
   ]
  },
  {
   "cell_type": "markdown",
   "metadata": {},
   "source": [
    "### Data Standardization\n",
    "\n",
    "Data is usually collected from different agencies in different formats. (Data standardization is also a term for a particular type of data normalization where we subtract the mean and divide by the standard deviation.)\n",
    "\n",
    "**What is standardization?**\n",
    "Standardization is the process of transforming data into a common format, allowing the researcher to make the meaningful comparison.\n",
    "\n",
    "In our dataset, the fuel consumption columns \"city-mpg\" and \"highway-mpg\" are represented by mpg (miles per gallon) unit. Assume we are developing an application in a country that accepts the fuel consumption with L/100km standard.>We will need to apply data transformation to transform mpg into L/100km. \n",
    "\n",
    "The formula for unit conversion is: L/100km = 235 / mpg.\n",
    "\n",
    "Use pandas to create the column `city-L/100km` and `highway-L/100km`."
   ]
  },
  {
   "cell_type": "code",
   "execution_count": null,
   "metadata": {},
   "outputs": [],
   "source": []
  },
  {
   "cell_type": "markdown",
   "metadata": {},
   "source": [
    "### Data Normalization\n",
    "\n",
    "**Why normalization?**\n",
    "Normalization is the process of transforming values of several variables into a similar range. Typical normalizations include scaling the variable so the variable average is 0 and the variance is 1, or scaling the variable so the variable values range from 0 to 1.\n",
    "\n",
    "To demonstrate normalization, let's say we want to scale the columns \"length\", \"width\" and \"height\".\n",
    "- Target:normalize those variables so their value ranges from 0 to 1\n",
    "- Approach: replace original value by (original value)/(maximum value)\n",
    "\n",
    "Normalize the columns \"length\", \"width\", and \"height\". Use the `.max()` function to get the column max. Print the first 10 values of \"length\", \"width\", and \"height\"."
   ]
  },
  {
   "cell_type": "code",
   "execution_count": null,
   "metadata": {},
   "outputs": [],
   "source": []
  },
  {
   "cell_type": "markdown",
   "metadata": {},
   "source": [
    "Here we can see we've normalized \"length\", \"width\" and \"height\" in the range of \\[0,1].\n"
   ]
  },
  {
   "cell_type": "markdown",
   "metadata": {},
   "source": [
    "### Binning\n",
    "\n",
    "**Why binning?**\n",
    "Binning is a process of transforming continuous numerical variables into discrete categorical 'bins' for grouped analysis.\n",
    "\n",
    "In our dataset, \"horsepower\" is a real valued variable ranging from 48 to 288 and it has 59 unique values. What if we only care about the price difference between cars with high horsepower, medium horsepower, and little horsepower (3 types)? Can we rearrange them into three ‘bins' to simplify analysis? \n",
    "\n",
    "We will use the pandas method `cut()` to segment the 'horsepower' column into 3 bins.\n",
    "\n",
    "#### Binning data with pandas \n",
    "\n",
    "Since we want to create bins based on numerical values of \"horsepower\", we need to make sure that the coulmn is of type integer. If it is not, fix it now."
   ]
  },
  {
   "cell_type": "code",
   "execution_count": null,
   "metadata": {},
   "outputs": [],
   "source": []
  },
  {
   "cell_type": "markdown",
   "metadata": {},
   "source": [
    "Let's plot the histogram of \"horsepower\" to see what the distribution of the values look like.\n",
    "\n",
    "Import `matplotlib.pyplot` and use `hist(df['horsepower'])` to create a histogram. Make sure your graph has a title and  x and y axis labels."
   ]
  },
  {
   "cell_type": "code",
   "execution_count": null,
   "metadata": {},
   "outputs": [],
   "source": []
  },
  {
   "cell_type": "markdown",
   "metadata": {},
   "source": [
    "We would like 3 bins of equal size, so we use numpy's `linspace(start_value, end_value, numbers_generated)` function.\n",
    "- Since we want to include the minimum value of horsepower, we want to set `start_value = min(df[\"horsepower\"])`.\n",
    "- Since we want to include the maximum value of horsepower, we want to set `end_value = max(df[\"horsepower\"])`.\n",
    "- Since we are building 3 bins of equal length, there should be 4 dividers, so `numbers_generated = 4`.\n",
    "\n",
    "Create an array called `binns` using `linspace()`. These values will determine when one bin ends and another begins when applied to \"horsepower\"."
   ]
  },
  {
   "cell_type": "code",
   "execution_count": null,
   "metadata": {},
   "outputs": [],
   "source": []
  },
  {
   "cell_type": "markdown",
   "metadata": {},
   "source": [
    "Create a list of group names that we will set for each label. The three groups we want are low, meidum, and high."
   ]
  },
  {
   "cell_type": "code",
   "execution_count": null,
   "metadata": {},
   "outputs": [],
   "source": []
  },
  {
   "cell_type": "markdown",
   "metadata": {},
   "source": [
    "Create a new column called \"horsepower-binned\" using the `cut()` function with `pd.cut(df['horsepower'], bins, labels=group_names, include_lowest=True)`. Print out the first 20 rows of \"horsepower\" and \"horsepower-binned\" to check your work. "
   ]
  },
  {
   "cell_type": "code",
   "execution_count": null,
   "metadata": {},
   "outputs": [],
   "source": []
  },
  {
   "cell_type": "markdown",
   "metadata": {},
   "source": [
    "Check the number of vehicles in each bin using `value_counts()`."
   ]
  },
  {
   "cell_type": "code",
   "execution_count": null,
   "metadata": {},
   "outputs": [],
   "source": []
  },
  {
   "cell_type": "markdown",
   "metadata": {},
   "source": [
    "Now, use let's make a histogram of our horsepower bins. The easiest way to do this is to use the `bar()` function like `bar(group_names, df[\"horsepower-binned\"].value_counts())`. Make sure your graph has axis labels and a title."
   ]
  },
  {
   "cell_type": "code",
   "execution_count": null,
   "metadata": {},
   "outputs": [],
   "source": []
  },
  {
   "cell_type": "markdown",
   "metadata": {},
   "source": [
    "Look at the graph above carefully. You will find that the last column provides the bins for \"horsepower\" based on 3 categories (\"Low\", \"Medium\" and \"High\"). We successfully narrowed down the intervals from 59 to 3! Instead of making an entirely new column, you could have also made a quick visualization of these same bins by changing parameters in the `.hist()` method like `plt.hist(df[\"horsepower\"], bins=3)`. "
   ]
  },
  {
   "cell_type": "code",
   "execution_count": null,
   "metadata": {},
   "outputs": [],
   "source": []
  },
  {
   "cell_type": "markdown",
   "metadata": {},
   "source": [
    "### Indicator variables (or dummy variables)\n",
    "**What is an indicator variable?**\n",
    "An indicator variable (or dummy variable) is a numerical variable used to label categories. They are called 'dummies' because the numbers themselves don't have inherent meaning. \n",
    "\n",
    "**Why we use indicator variables?**\n",
    "We use indicator variables so we can use categorical variables for regression analysis in the later modules.\n",
    "\n",
    "We see the column \"fuel-type\" has two unique values: \"gas\" or \"diesel\". Regression doesn't understand words, only numbers. To use this attribute in regression analysis, we convert \"fuel-type\" to indicator variables.\n",
    "\n",
    "Use pandas' method `get_dummies(column_name)` to assign numerical values to different categories of fuel type and assign it to a variable.\n"
   ]
  },
  {
   "cell_type": "code",
   "execution_count": null,
   "metadata": {},
   "outputs": [],
   "source": []
  },
  {
   "cell_type": "markdown",
   "metadata": {},
   "source": [
    "Change the column names to \"fuel-type-gas\" and \"fuel-type-diesel\" for clarity.\n"
   ]
  },
  {
   "cell_type": "code",
   "execution_count": null,
   "metadata": {},
   "outputs": [],
   "source": []
  },
  {
   "cell_type": "markdown",
   "metadata": {},
   "source": [
    "Add the \"dummy_variable\" dataframe to your original dataframe `df` with pandas' `concat()` function. Then remove \"fuel-type\" from your dataframe.\n",
    "```\n",
    "df = pd.concat([df, dummy_variable_1], axis=1)\n",
    "df.drop('fuel-type', axis = 1, inplace = True)\n",
    "```"
   ]
  },
  {
   "cell_type": "code",
   "execution_count": null,
   "metadata": {},
   "outputs": [],
   "source": []
  },
  {
   "cell_type": "markdown",
   "metadata": {},
   "source": [
    "The last two columns are now the indicator variable representation of the fuel-type variable. They're all 0s and 1s now.\n",
    "\n",
    "\n",
    "Similar to before, we follow the same steps to create indicator variables for the column \"aspiration\". Then use `concat()` to add your dummy variables back into the dataframe and remove the original column."
   ]
  },
  {
   "cell_type": "code",
   "execution_count": null,
   "metadata": {},
   "outputs": [],
   "source": []
  },
  {
   "cell_type": "markdown",
   "metadata": {},
   "source": [
    "**Awesome!** Now we are done cleaning our data."
   ]
  },
  {
   "cell_type": "markdown",
   "metadata": {},
   "source": [
    "## Export your file\n",
    "To move to the second part of the lab, we need to save our dataframe in a new file. Use the function `df.to_csv(file_name)` to save your dataframe to a new csv.\n"
   ]
  },
  {
   "cell_type": "code",
   "execution_count": null,
   "metadata": {},
   "outputs": [],
   "source": []
  }
 ],
 "metadata": {
  "kernelspec": {
   "display_name": "base",
   "language": "python",
   "name": "python3"
  },
  "language_info": {
   "codemirror_mode": {
    "name": "ipython",
    "version": 3
   },
   "file_extension": ".py",
   "mimetype": "text/x-python",
   "name": "python",
   "nbconvert_exporter": "python",
   "pygments_lexer": "ipython3",
   "version": "3.11.5"
  }
 },
 "nbformat": 4,
 "nbformat_minor": 2
}
